{
 "cells": [
  {
   "cell_type": "code",
   "execution_count": 1,
   "metadata": {
    "ExecuteTime": {
     "end_time": "2019-08-24T14:56:59.314000Z",
     "start_time": "2019-08-24T14:56:59.308000Z"
    }
   },
   "outputs": [],
   "source": [
    "from ipywidgets import HBox, VBox, Output, widgets, Image\n",
    "\n",
    "from IPython.display import display_svg, display"
   ]
  },
  {
   "cell_type": "code",
   "execution_count": 2,
   "metadata": {
    "ExecuteTime": {
     "end_time": "2019-08-24T14:56:59.377000Z",
     "start_time": "2019-08-24T14:56:59.320000Z"
    },
    "code_folding": []
   },
   "outputs": [],
   "source": [
    "from pygraphviz import AGraph\n",
    "\n",
    "class IGraph(AGraph):\n",
    "    def __init__(self, thing=None, filename=None, data=None,\n",
    "        string=None, handle=None, name='', strict=True,\n",
    "        directed=False, styles=None, **attr,):\n",
    "        self.styles = {} if styles is None else styles\n",
    "        \n",
    "        if string:\n",
    "            for s in self.styles:\n",
    "                string = string.replace(f'[{s}]', f'[{styles[s].to_str()}]')\n",
    "        super().__init__(thing=thing, filename=filename, data=data, string=string,\n",
    "                        handle=handle, name=name, strict=strict, directed=directed, **attr)\n",
    "        \n",
    "    def copy(self):\n",
    "        from copy import deepcopy\n",
    "        res = super().copy()\n",
    "        res.styles = deepcopy(self.styles)\n",
    "        return res\n",
    "        \n",
    "    def _repr_svg_(self):\n",
    "        return str(self.draw(prog='dot', format='svg'))\n",
    "    \n",
    "    def select_edges(self, chain: str):\n",
    "        for p in '-,>':\n",
    "            chain = chain.replace(p, ' ')\n",
    "        chain = chain.split()\n",
    "        return [self.get_edge(*e) for e in zip(chain[:-1], chain[1:])]\n",
    "\n",
    "    def style_edges(self, edges, attrs):\n",
    "        if isinstance(edges, str):\n",
    "            edges = self.select_edges(edges)\n",
    "        if isinstance(attrs, str):\n",
    "            attrs = self.styles[attrs]\n",
    "        for e in edges:\n",
    "            e.attr.update(attrs)\n",
    "            \n",
    "    def delete_node_edges(self, node, in_edges=True, out_edges=True):\n",
    "        \"\"\" Delete the node with its edges.\"\"\"\n",
    "        if in_edges: self.delete_edges_from(self.in_edges(node))\n",
    "        if out_edges: self.delete_edges_from(self.out_edges(node))\n",
    "        self.delete_node(node)\n",
    "            \n",
    "class DotStyle(dict):\n",
    "    def __init__(self, val=None, **kw):\n",
    "        val = self.from_str(val) if isinstance(val, str) else {} if val is None else val\n",
    "        assert isinstance(val, dict)\n",
    "        val.update(kw)\n",
    "        super().__init__(val)\n",
    "        \n",
    "    @staticmethod\n",
    "    def from_str(val:str):\n",
    "        import re\n",
    "\n",
    "        def parse_val(s, sv):\n",
    "            if sv:\n",
    "                for op in (int, float, str):\n",
    "                    try: s = op(sv)\n",
    "                    except: continue  # if failed - continue for the next casting attempt\n",
    "                    break  # otherwise - exit with success\n",
    "            return s   # last cast option -> str always succeeds \n",
    "\n",
    "        found = re.findall(r'(\\w+)\\s*=\\s*(?:\"([^\"]+)\"|([^\\s]+))', val)\n",
    "        return {key: parse_val(s, sv) for key, s, sv in found}\n",
    "    \n",
    "    def to_str(self):\n",
    "        return ' '.join([key + '=' + (f'\"{v}\"' if isinstance(v, str) and ' ' in v \n",
    "                             else f'{v}') for key, v in self.items()])\n",
    "    \n",
    "    def __iadd__(self, other):\n",
    "        self.update(other)\n",
    "        return self\n",
    "    \n",
    "    def __add__(self, other):\n",
    "        res = self.__class__(self)\n",
    "        res.update(other)\n",
    "        return res\n",
    "    \n",
    "    def __radd__(self, other):\n",
    "        return self.__class__(other) + self\n",
    "    "
   ]
  },
  {
   "cell_type": "code",
   "execution_count": 3,
   "metadata": {
    "ExecuteTime": {
     "end_time": "2019-08-24T14:56:59.387000Z",
     "start_time": "2019-08-24T14:56:59.381000Z"
    },
    "code_folding": []
   },
   "outputs": [],
   "source": [
    "# Prepare styles\n",
    "def styles():\n",
    "    resource = DotStyle(shape='rectangle', width=.9, height=.3, fixedsize='true',\n",
    "                        fontname=\"Verdana\", fontsize=10, penwidth=.5,\n",
    "                        color=\".14 .2 .4\", style='filled', fillcolor=\".14 0.2 1\")\n",
    "    produce = DotStyle(shape='oval', penwidth=0.5, fontsize=12)\n",
    "    \n",
    "    norm_edge = DotStyle(arrowsize=0.7, penwidth=0.5, color='darkgray')\n",
    "    bold_edge = DotStyle(arrowsize=0.6, penwidth=1.5, color='black')\n",
    "    war_edge = bold_edge + {'color': \"0 0.5 1\"}\n",
    "    lord_edge = bold_edge + {'color': 'blue'}\n",
    "    \n",
    "    return locals()\n"
   ]
  },
  {
   "cell_type": "code",
   "execution_count": 4,
   "metadata": {
    "ExecuteTime": {
     "end_time": "2019-08-24T14:56:59.566000Z",
     "start_time": "2019-08-24T14:56:59.389000Z"
    },
    "code_folding": [
     1
    ]
   },
   "outputs": [
    {
     "data": {
      "image/svg+xml": [
       "b'<?xml version=\"1.0\" encoding=\"UTF-8\" standalone=\"no\"?>\\r\\n<!DOCTYPE svg PUBLIC \"-//W3C//DTD SVG 1.1//EN\"\\r\\n \"http://www.w3.org/Graphics/SVG/1.1/DTD/svg11.dtd\">\\r\\n<!-- Generated by graphviz version 2.41.20170921.1950 (20170921.1950)\\r\\n -->\\r\\n<!-- Title: Feaudal Processes Pages: 1 -->\\r\\n<svg width=\"324pt\" height=\"293pt\"\\r\\n viewBox=\"0.00 0.00 324.00 293.30\" xmlns=\"http://www.w3.org/2000/svg\" xmlns:xlink=\"http://www.w3.org/1999/xlink\">\\r\\n<g id=\"graph0\" class=\"graph\" transform=\"scale(0.85 0.85) rotate(0) translate(4 340.1)\">\\r\\n<title>Feaudal Processes</title>\\r\\n<polygon fill=\"white\" stroke=\"transparent\" points=\"-4,4 -4,-340.1 376.12,-340.1 376.12,4 -4,4\"/>\\r\\n<text text-anchor=\"middle\" x=\"186.06\" y=\"-320.9\" font-family=\"Times New Roman,serif\" font-size=\"14.00\">Complete</text>\\r\\n<g id=\"clust5\" class=\"cluster\">\\r\\n<title>cluster_c1</title>\\r\\n<polygon fill=\"none\" stroke=\"white\" points=\"8,-213.1 8,-305.1 200.49,-305.1 200.49,-213.1 8,-213.1\"/>\\r\\n</g>\\r\\n<!-- land -->\\r\\n<g id=\"node1\" class=\"node\">\\r\\n<title>land</title>\\r\\n<polygon fill=\"#fff6cc\" stroke=\"#666251\" stroke-width=\"0.5\" points=\"183.74,-127.1 118.74,-127.1 118.74,-105.1 183.74,-105.1 183.74,-127.1\"/>\\r\\n<text text-anchor=\"middle\" x=\"151.24\" y=\"-113.6\" font-family=\"Verdana\" font-size=\"10.00\">land</text>\\r\\n</g>\\r\\n<!-- Work -->\\r\\n<g id=\"node10\" class=\"node\">\\r\\n<title>Work</title>\\r\\n<ellipse fill=\"none\" stroke=\"black\" stroke-width=\"0.5\" cx=\"249.81\" cy=\"-137.1\" rx=\"27.17\" ry=\"18\"/>\\r\\n<text text-anchor=\"middle\" x=\"249.81\" y=\"-134\" font-family=\"Times New Roman,serif\" font-size=\"12.00\">Work</text>\\r\\n</g>\\r\\n<!-- land&#45;&gt;Work -->\\r\\n<g id=\"edge3\" class=\"edge\">\\r\\n<title>land&#45;&gt;Work</title>\\r\\n<path fill=\"none\" stroke=\"darkgray\" stroke-width=\"0.5\" d=\"M183.86,-122.98C194.41,-125.27 206.16,-127.83 216.74,-130.13\"/>\\r\\n<polygon fill=\"darkgray\" stroke=\"darkgray\" stroke-width=\"0.5\" points=\"216.49,-132.58 223.85,-131.67 217.53,-127.79 216.49,-132.58\"/>\\r\\n</g>\\r\\n<!-- peasants -->\\r\\n<g id=\"node2\" class=\"node\">\\r\\n<title>peasants</title>\\r\\n<polygon fill=\"#fff6cc\" stroke=\"#666251\" stroke-width=\"0.5\" points=\"81,-297.1 16,-297.1 16,-275.1 81,-275.1 81,-297.1\"/>\\r\\n<text text-anchor=\"middle\" x=\"48.5\" y=\"-283.6\" font-family=\"Verdana\" font-size=\"10.00\">peasants</text>\\r\\n</g>\\r\\n<!-- Labor -->\\r\\n<g id=\"node7\" class=\"node\">\\r\\n<title>Labor</title>\\r\\n<ellipse fill=\"none\" stroke=\"black\" stroke-width=\"0.5\" cx=\"48.5\" cy=\"-239.1\" rx=\"27.17\" ry=\"18\"/>\\r\\n<text text-anchor=\"middle\" x=\"48.5\" y=\"-236\" font-family=\"Times New Roman,serif\" font-size=\"12.00\">Labor</text>\\r\\n</g>\\r\\n<!-- peasants&#45;&gt;Labor -->\\r\\n<g id=\"edge1\" class=\"edge\">\\r\\n<title>peasants&#45;&gt;Labor</title>\\r\\n<path fill=\"none\" stroke=\"darkgray\" stroke-width=\"0.5\" d=\"M48.5,-274.91C48.5,-271.46 48.5,-268.01 48.5,-264.55\"/>\\r\\n<polygon fill=\"darkgray\" stroke=\"darkgray\" stroke-width=\"0.5\" points=\"50.95,-264.46 48.5,-257.46 46.05,-264.46 50.95,-264.46\"/>\\r\\n</g>\\r\\n<!-- Reproduce -->\\r\\n<g id=\"node9\" class=\"node\">\\r\\n<title>Reproduce</title>\\r\\n<ellipse fill=\"none\" stroke=\"black\" stroke-width=\"0.5\" cx=\"151.24\" cy=\"-275.1\" rx=\"41.49\" ry=\"18\"/>\\r\\n<text text-anchor=\"middle\" x=\"151.24\" y=\"-272\" font-family=\"Times New Roman,serif\" font-size=\"12.00\">Reproduce</text>\\r\\n</g>\\r\\n<!-- peasants&#45;&gt;Reproduce -->\\r\\n<g id=\"edge4\" class=\"edge\">\\r\\n<title>peasants&#45;&gt;Reproduce</title>\\r\\n<path fill=\"none\" stroke=\"darkgray\" stroke-width=\"0.5\" d=\"M81.1,-276.34C88.02,-275.24 95.5,-274.29 102.89,-273.53\"/>\\r\\n<polygon fill=\"darkgray\" stroke=\"darkgray\" stroke-width=\"0.5\" points=\"103.49,-275.94 110.23,-272.85 103.03,-271.06 103.49,-275.94\"/>\\r\\n</g>\\r\\n<!-- goods -->\\r\\n<g id=\"node3\" class=\"node\">\\r\\n<title>goods</title>\\r\\n<polygon fill=\"#fff6cc\" stroke=\"#666251\" stroke-width=\"0.5\" points=\"372.12,-121.1 307.12,-121.1 307.12,-99.1 372.12,-99.1 372.12,-121.1\"/>\\r\\n<text text-anchor=\"middle\" x=\"339.62\" y=\"-107.6\" font-family=\"Verdana\" font-size=\"10.00\">goods</text>\\r\\n</g>\\r\\n<!-- goods&#45;&gt;Labor -->\\r\\n<g id=\"edge6\" class=\"edge\">\\r\\n<title>goods&#45;&gt;Labor</title>\\r\\n<path fill=\"none\" stroke=\"darkgray\" stroke-width=\"0.5\" d=\"M330.3,-98.8C319.83,-85.64 300.49,-64.63 278.12,-56.1 208.31,-29.48 170.56,-12.34 110,-56.1 83.99,-74.9 62.99,-168.27 54.1,-213.91\"/>\\r\\n<polygon fill=\"darkgray\" stroke=\"darkgray\" stroke-width=\"0.5\" points=\"51.64,-213.73 52.72,-221.06 56.45,-214.65 51.64,-213.73\"/>\\r\\n</g>\\r\\n<!-- Lord -->\\r\\n<g id=\"node8\" class=\"node\">\\r\\n<title>Lord</title>\\r\\n<ellipse fill=\"none\" stroke=\"black\" stroke-width=\"0.5\" cx=\"48.5\" cy=\"-76.1\" rx=\"27\" ry=\"18\"/>\\r\\n<text text-anchor=\"middle\" x=\"48.5\" y=\"-73\" font-family=\"Times New Roman,serif\" font-size=\"12.00\">Lord</text>\\r\\n</g>\\r\\n<!-- goods&#45;&gt;Lord -->\\r\\n<g id=\"edge7\" class=\"edge\">\\r\\n<title>goods&#45;&gt;Lord</title>\\r\\n<path fill=\"none\" stroke=\"darkgray\" stroke-width=\"0.5\" d=\"M334.81,-98.96C327.42,-79.37 309.1,-39.29 278.12,-23.1 211.9,11.51 179.94,3.2 110,-23.1 93,-29.5 77.65,-43.07 66.67,-54.89\"/>\\r\\n<polygon fill=\"darkgray\" stroke=\"darkgray\" stroke-width=\"0.5\" points=\"64.8,-53.31 61.94,-60.16 68.44,-56.58 64.8,-53.31\"/>\\r\\n</g>\\r\\n<!-- goods&#45;&gt;Reproduce -->\\r\\n<g id=\"edge5\" class=\"edge\">\\r\\n<title>goods&#45;&gt;Reproduce</title>\\r\\n<path fill=\"none\" stroke=\"darkgray\" stroke-width=\"0.5\" d=\"M326.99,-121.36C315.1,-132.65 295.92,-150.29 278.12,-164.1 254.17,-182.68 244.65,-182.54 221.49,-202.1 203.07,-217.66 184.38,-237.67 171.07,-252.8\"/>\\r\\n<polygon fill=\"darkgray\" stroke=\"darkgray\" stroke-width=\"0.5\" points=\"169.17,-251.25 166.42,-258.14 172.86,-254.47 169.17,-251.25\"/>\\r\\n</g>\\r\\n<!-- Health -->\\r\\n<g id=\"node11\" class=\"node\">\\r\\n<title>Health</title>\\r\\n<ellipse fill=\"none\" stroke=\"black\" stroke-width=\"0.5\" cx=\"249.81\" cy=\"-229.1\" rx=\"28.14\" ry=\"18\"/>\\r\\n<text text-anchor=\"middle\" x=\"249.81\" y=\"-226\" font-family=\"Times New Roman,serif\" font-size=\"12.00\">Health</text>\\r\\n</g>\\r\\n<!-- goods&#45;&gt;Health -->\\r\\n<g id=\"edge8\" class=\"edge\">\\r\\n<title>goods&#45;&gt;Health</title>\\r\\n<path fill=\"none\" stroke=\"darkgray\" stroke-width=\"0.5\" d=\"M331.32,-121.34C320.28,-138.16 298.46,-170.74 278.12,-197.1 275.37,-200.67 272.36,-204.38 269.37,-207.95\"/>\\r\\n<polygon fill=\"darkgray\" stroke=\"darkgray\" stroke-width=\"0.5\" points=\"267.4,-206.48 264.74,-213.41 271.14,-209.65 267.4,-206.48\"/>\\r\\n</g>\\r\\n<!-- health -->\\r\\n<g id=\"node4\" class=\"node\">\\r\\n<title>health</title>\\r\\n<polygon fill=\"#fff6cc\" stroke=\"#666251\" stroke-width=\"0.5\" points=\"372.12,-240.1 307.12,-240.1 307.12,-218.1 372.12,-218.1 372.12,-240.1\"/>\\r\\n<text text-anchor=\"middle\" x=\"339.62\" y=\"-226.6\" font-family=\"Verdana\" font-size=\"10.00\">health</text>\\r\\n</g>\\r\\n<!-- health&#45;&gt;Reproduce -->\\r\\n<g id=\"edge9\" class=\"edge\">\\r\\n<title>health&#45;&gt;Reproduce</title>\\r\\n<path fill=\"none\" stroke=\"darkgray\" stroke-width=\"0.5\" d=\"M317.6,-240.17C306.2,-245.74 291.7,-252.13 278.12,-256.1 252.56,-263.59 223.16,-268.23 199.21,-271.06\"/>\\r\\n<polygon fill=\"darkgray\" stroke=\"darkgray\" stroke-width=\"0.5\" points=\"198.64,-268.66 191.96,-271.88 199.19,-273.53 198.64,-268.66\"/>\\r\\n</g>\\r\\n<!-- protection -->\\r\\n<g id=\"node5\" class=\"node\">\\r\\n<title>protection</title>\\r\\n<polygon fill=\"#fff6cc\" stroke=\"#666251\" stroke-width=\"0.5\" points=\"183.74,-87.1 118.74,-87.1 118.74,-65.1 183.74,-65.1 183.74,-87.1\"/>\\r\\n<text text-anchor=\"middle\" x=\"151.24\" y=\"-73.6\" font-family=\"Verdana\" font-size=\"10.00\">protection</text>\\r\\n</g>\\r\\n<!-- War -->\\r\\n<g id=\"node12\" class=\"node\">\\r\\n<title>War</title>\\r\\n<ellipse fill=\"none\" stroke=\"black\" stroke-width=\"0.5\" cx=\"249.81\" cy=\"-83.1\" rx=\"27\" ry=\"18\"/>\\r\\n<text text-anchor=\"middle\" x=\"249.81\" y=\"-80\" font-family=\"Times New Roman,serif\" font-size=\"12.00\">War</text>\\r\\n</g>\\r\\n<!-- protection&#45;&gt;War -->\\r\\n<g id=\"edge10\" class=\"edge\">\\r\\n<title>protection&#45;&gt;War</title>\\r\\n<path fill=\"none\" stroke=\"darkgray\" stroke-width=\"0.5\" d=\"M183.86,-78.39C194.04,-79.13 205.35,-79.95 215.64,-80.7\"/>\\r\\n<polygon fill=\"darkgray\" stroke=\"darkgray\" stroke-width=\"0.5\" points=\"215.76,-83.16 222.92,-81.22 216.11,-78.27 215.76,-83.16\"/>\\r\\n</g>\\r\\n<!-- labor -->\\r\\n<g id=\"node6\" class=\"node\">\\r\\n<title>labor</title>\\r\\n<polygon fill=\"#fff6cc\" stroke=\"#666251\" stroke-width=\"0.5\" points=\"183.74,-205.1 118.74,-205.1 118.74,-183.1 183.74,-183.1 183.74,-205.1\"/>\\r\\n<text text-anchor=\"middle\" x=\"151.24\" y=\"-191.6\" font-family=\"Verdana\" font-size=\"10.00\">labor</text>\\r\\n</g>\\r\\n<!-- labor&#45;&gt;Reproduce -->\\r\\n<g id=\"edge11\" class=\"edge\">\\r\\n<title>labor&#45;&gt;Reproduce</title>\\r\\n<path fill=\"none\" stroke=\"darkgray\" stroke-width=\"0.5\" d=\"M151.24,-205.18C151.24,-220.04 151.24,-234.91 151.24,-249.78\"/>\\r\\n<polygon fill=\"darkgray\" stroke=\"darkgray\" stroke-width=\"0.5\" points=\"148.79,-250.07 151.24,-257.07 153.69,-250.07 148.79,-250.07\"/>\\r\\n</g>\\r\\n<!-- labor&#45;&gt;Work -->\\r\\n<g id=\"edge12\" class=\"edge\">\\r\\n<title>labor&#45;&gt;Work</title>\\r\\n<path fill=\"none\" stroke=\"darkgray\" stroke-width=\"0.5\" d=\"M175.1,-182.89C183.22,-178.74 192.36,-173.88 200.49,-169.1 208.35,-164.48 216.7,-159.12 224.21,-154.12\"/>\\r\\n<polygon fill=\"darkgray\" stroke=\"darkgray\" stroke-width=\"0.5\" points=\"225.84,-155.98 230.29,-150.04 223.11,-151.91 225.84,-155.98\"/>\\r\\n</g>\\r\\n<!-- labor&#45;&gt;Health -->\\r\\n<g id=\"edge13\" class=\"edge\">\\r\\n<title>labor&#45;&gt;Health</title>\\r\\n<path fill=\"none\" stroke=\"darkgray\" stroke-width=\"0.5\" d=\"M183.78,-203.45C189.38,-205.24 195.13,-207.16 200.49,-209.1 206.63,-211.32 213.14,-213.88 219.32,-216.4\"/>\\r\\n<polygon fill=\"darkgray\" stroke=\"darkgray\" stroke-width=\"0.5\" points=\"218.47,-218.7 225.87,-219.11 220.34,-214.17 218.47,-218.7\"/>\\r\\n</g>\\r\\n<!-- Labor&#45;&gt;land -->\\r\\n<g id=\"edge14\" class=\"edge\">\\r\\n<title>Labor&#45;&gt;land</title>\\r\\n<path fill=\"none\" stroke=\"darkgray\" stroke-width=\"0.5\" d=\"M57.1,-221.87C66.97,-200.9 85.86,-165.31 110,-141.1 113.67,-137.42 117.99,-134.03 122.4,-131.01\"/>\\r\\n<polygon fill=\"darkgray\" stroke=\"darkgray\" stroke-width=\"0.5\" points=\"123.87,-132.98 128.44,-127.14 121.22,-128.86 123.87,-132.98\"/>\\r\\n</g>\\r\\n<!-- Labor&#45;&gt;labor -->\\r\\n<g id=\"edge15\" class=\"edge\">\\r\\n<title>Labor&#45;&gt;labor</title>\\r\\n<path fill=\"none\" stroke=\"darkgray\" stroke-width=\"0.5\" d=\"M70.25,-228.15C81.81,-222.21 96.55,-214.92 110,-209.1 110.94,-208.69 111.9,-208.29 112.86,-207.88\"/>\\r\\n<polygon fill=\"darkgray\" stroke=\"darkgray\" stroke-width=\"0.5\" points=\"113.79,-210.15 119.35,-205.24 111.94,-205.61 113.79,-210.15\"/>\\r\\n</g>\\r\\n<!-- Lord&#45;&gt;land -->\\r\\n<g id=\"edge17\" class=\"edge\">\\r\\n<title>Lord&#45;&gt;land</title>\\r\\n<path fill=\"none\" stroke=\"darkgray\" stroke-width=\"0.5\" d=\"M72.11,-85.08C84.87,-90.15 101.09,-96.59 115.44,-102.28\"/>\\r\\n<polygon fill=\"darkgray\" stroke=\"darkgray\" stroke-width=\"0.5\" points=\"114.91,-104.71 122.32,-105.01 116.71,-100.15 114.91,-104.71\"/>\\r\\n</g>\\r\\n<!-- Lord&#45;&gt;protection -->\\r\\n<g id=\"edge18\" class=\"edge\">\\r\\n<title>Lord&#45;&gt;protection</title>\\r\\n<path fill=\"none\" stroke=\"darkgray\" stroke-width=\"0.5\" d=\"M75.71,-76.1C86.52,-76.1 99.28,-76.1 111.16,-76.1\"/>\\r\\n<polygon fill=\"darkgray\" stroke=\"darkgray\" stroke-width=\"0.5\" points=\"111.42,-78.55 118.42,-76.1 111.42,-73.65 111.42,-78.55\"/>\\r\\n</g>\\r\\n<!-- Reproduce&#45;&gt;peasants -->\\r\\n<g id=\"edge2\" class=\"edge\">\\r\\n<title>Reproduce&#45;&gt;peasants</title>\\r\\n<path fill=\"none\" stroke=\"darkgray\" stroke-width=\"0.5\" d=\"M116.67,-285.17C107.52,-286.56 97.55,-287.71 88.15,-288.47\"/>\\r\\n<polygon fill=\"darkgray\" stroke=\"darkgray\" stroke-width=\"0.5\" points=\"87.91,-286.03 81.1,-288.97 88.26,-290.91 87.91,-286.03\"/>\\r\\n</g>\\r\\n<!-- Work&#45;&gt;goods -->\\r\\n<g id=\"edge16\" class=\"edge\">\\r\\n<title>Work&#45;&gt;goods</title>\\r\\n<path fill=\"none\" stroke=\"darkgray\" stroke-width=\"0.5\" d=\"M274.8,-129.72C282.66,-127.31 291.59,-124.56 300.23,-121.91\"/>\\r\\n<polygon fill=\"darkgray\" stroke=\"darkgray\" stroke-width=\"0.5\" points=\"301.1,-124.2 307.07,-119.8 299.66,-119.52 301.1,-124.2\"/>\\r\\n</g>\\r\\n<!-- Health&#45;&gt;health -->\\r\\n<g id=\"edge19\" class=\"edge\">\\r\\n<title>Health&#45;&gt;health</title>\\r\\n<path fill=\"none\" stroke=\"darkgray\" stroke-width=\"0.5\" d=\"M278.59,-229.1C285.38,-229.1 292.76,-229.1 299.95,-229.1\"/>\\r\\n<polygon fill=\"darkgray\" stroke=\"darkgray\" stroke-width=\"0.5\" points=\"300.04,-231.55 307.04,-229.1 300.04,-226.65 300.04,-231.55\"/>\\r\\n</g>\\r\\n<!-- War&#45;&gt;land -->\\r\\n<g id=\"edge20\" class=\"edge\">\\r\\n<title>War&#45;&gt;land</title>\\r\\n<path fill=\"none\" stroke=\"darkgray\" stroke-width=\"0.5\" d=\"M225.39,-91.1C214.96,-94.67 202.4,-98.96 190.66,-102.97\"/>\\r\\n<polygon fill=\"darkgray\" stroke=\"darkgray\" stroke-width=\"0.5\" points=\"189.69,-100.71 183.86,-105.3 191.28,-105.35 189.69,-100.71\"/>\\r\\n</g>\\r\\n<!-- War&#45;&gt;peasants -->\\r\\n<g id=\"edge21\" class=\"edge\">\\r\\n<title>War&#45;&gt;peasants</title>\\r\\n<path fill=\"none\" stroke=\"darkgray\" stroke-width=\"0.5\" d=\"M233.47,-97.66C229.48,-101.61 225.25,-105.95 221.49,-110.1 211.52,-121.12 212.36,-127.18 200.49,-136.1 165.62,-162.31 139.39,-141.87 110,-174.1 81.11,-205.78 107.12,-232.11 81,-266.1 79.86,-267.58 78.58,-268.99 77.2,-270.31\"/>\\r\\n<polygon fill=\"darkgray\" stroke=\"darkgray\" stroke-width=\"0.5\" points=\"75.34,-268.67 71.49,-275.01 78.45,-272.45 75.34,-268.67\"/>\\r\\n</g>\\r\\n<!-- War&#45;&gt;goods -->\\r\\n<g id=\"edge22\" class=\"edge\">\\r\\n<title>War&#45;&gt;goods</title>\\r\\n<path fill=\"none\" stroke=\"darkgray\" stroke-width=\"0.5\" d=\"M274.8,-90.48C282.66,-92.89 291.59,-95.64 300.23,-98.3\"/>\\r\\n<polygon fill=\"darkgray\" stroke=\"darkgray\" stroke-width=\"0.5\" points=\"299.66,-100.69 307.07,-100.4 301.1,-96 299.66,-100.69\"/>\\r\\n</g>\\r\\n<!-- War&#45;&gt;health -->\\r\\n<g id=\"edge23\" class=\"edge\">\\r\\n<title>War&#45;&gt;health</title>\\r\\n<path fill=\"none\" stroke=\"darkgray\" stroke-width=\"0.5\" d=\"M266.76,-97.16C270.74,-101.12 274.82,-105.58 278.12,-110.1 302.26,-143.15 321.88,-187.22 331.73,-211.39\"/>\\r\\n<polygon fill=\"darkgray\" stroke=\"darkgray\" stroke-width=\"0.5\" points=\"329.48,-212.35 334.36,-217.93 334.03,-210.52 329.48,-212.35\"/>\\r\\n</g>\\r\\n</g>\\r\\n</svg>\\r\\n'"
      ],
      "text/plain": [
       "<AGraph b'Feaudal Processes' <Swig Object of type 'Agraph_t *' at 0x00000000052DDDE0>>"
      ]
     },
     "execution_count": 4,
     "metadata": {},
     "output_type": "execute_result"
    }
   ],
   "source": [
    "dotsrc = \"\"\"\n",
    "digraph \"Feaudal Processes\" { \n",
    "    rankdir=LR\n",
    "    ranksep=0.4\n",
    "    newrank=true\n",
    "    size = \"4.5!\"\n",
    "    \n",
    "    graph [label=\"Complete\" labelloc=t]\n",
    "    \n",
    "    edge[norm_edge]\n",
    "    node[produce] \n",
    "\n",
    "    {node[resource] \n",
    "        land peasants goods health protection labor\n",
    "    } \n",
    "    \n",
    "    subgraph cluster_c1 { label = \"\" color=white\n",
    "        Reproduce -> peasants;   \n",
    "        peasants -> Labor;\n",
    "        {rank = min peasants Labor}\n",
    "        {rank=same Reproduce }\n",
    "    }\n",
    "    \n",
    "    goods -> Labor -> {land, labor} -> Work -> goods;\n",
    "    \n",
    "    goods -> Lord -> {protection, land};\n",
    "    \n",
    "    {goods, labor} -> Health -> health;\n",
    "    {peasants, goods, labor, health} -> Reproduce;\n",
    "    \n",
    "    protection -> War -> {health, goods, land, peasants};  \n",
    "    \n",
    "        \n",
    "    {rank=min   peasants Labor Lord  }\n",
    "    {rank=same  land protection labor Reproduce}\n",
    "    {rank=same  War Work Health  }\n",
    "}\n",
    "\n",
    "\"\"\"\n",
    "\n",
    "G = IGraph(string=dotsrc, styles=styles())\n",
    "G"
   ]
  },
  {
   "cell_type": "code",
   "execution_count": 5,
   "metadata": {
    "ExecuteTime": {
     "end_time": "2019-08-24T14:56:59.640000Z",
     "start_time": "2019-08-24T14:56:59.568000Z"
    }
   },
   "outputs": [
    {
     "name": "stdout",
     "output_type": "stream",
     "text": [
      "/c/Users/ilyap/anaconda3/envs/abc/Scripts/dot\n"
     ]
    }
   ],
   "source": [
    "!which dot"
   ]
  },
  {
   "cell_type": "code",
   "execution_count": 6,
   "metadata": {
    "ExecuteTime": {
     "end_time": "2019-08-24T14:56:59.706000Z",
     "start_time": "2019-08-24T14:56:59.642000Z"
    },
    "hide_input": false,
    "scrolled": false
   },
   "outputs": [
    {
     "data": {
      "image/svg+xml": [
       "b'<?xml version=\"1.0\" encoding=\"UTF-8\" standalone=\"no\"?>\\r\\n<!DOCTYPE svg PUBLIC \"-//W3C//DTD SVG 1.1//EN\"\\r\\n \"http://www.w3.org/Graphics/SVG/1.1/DTD/svg11.dtd\">\\r\\n<!-- Generated by graphviz version 2.41.20170921.1950 (20170921.1950)\\r\\n -->\\r\\n<!-- Title: Feaudal Processes Pages: 1 -->\\r\\n<svg width=\"324pt\" height=\"293pt\"\\r\\n viewBox=\"0.00 0.00 324.00 293.30\" xmlns=\"http://www.w3.org/2000/svg\" xmlns:xlink=\"http://www.w3.org/1999/xlink\">\\r\\n<g id=\"graph0\" class=\"graph\" transform=\"scale(0.85 0.85) rotate(0) translate(4 340.1)\">\\r\\n<title>Feaudal Processes</title>\\r\\n<polygon fill=\"white\" stroke=\"transparent\" points=\"-4,4 -4,-340.1 376.12,-340.1 376.12,4 -4,4\"/>\\r\\n<text text-anchor=\"middle\" x=\"186.06\" y=\"-320.9\" font-family=\"Times New Roman,serif\" font-size=\"14.00\">Basic Scenario</text>\\r\\n<g id=\"clust5\" class=\"cluster\">\\r\\n<title>cluster_c1</title>\\r\\n<polygon fill=\"none\" stroke=\"white\" points=\"8,-213.1 8,-305.1 200.49,-305.1 200.49,-213.1 8,-213.1\"/>\\r\\n</g>\\r\\n<!-- land -->\\r\\n<g id=\"node1\" class=\"node\">\\r\\n<title>land</title>\\r\\n<polygon fill=\"#fff6cc\" stroke=\"#666251\" stroke-width=\"0.5\" points=\"183.74,-127.1 118.74,-127.1 118.74,-105.1 183.74,-105.1 183.74,-127.1\"/>\\r\\n<text text-anchor=\"middle\" x=\"151.24\" y=\"-113.6\" font-family=\"Verdana\" font-size=\"10.00\">land</text>\\r\\n</g>\\r\\n<!-- Work -->\\r\\n<g id=\"node10\" class=\"node\">\\r\\n<title>Work</title>\\r\\n<ellipse fill=\"none\" stroke=\"black\" stroke-width=\"0.5\" cx=\"249.81\" cy=\"-137.1\" rx=\"27.17\" ry=\"18\"/>\\r\\n<text text-anchor=\"middle\" x=\"249.81\" y=\"-134\" font-family=\"Times New Roman,serif\" font-size=\"12.00\">Work</text>\\r\\n</g>\\r\\n<!-- land&#45;&gt;Work -->\\r\\n<g id=\"edge3\" class=\"edge\">\\r\\n<title>land&#45;&gt;Work</title>\\r\\n<path fill=\"none\" stroke=\"blue\" stroke-width=\"1.5\" d=\"M183.86,-122.98C194.81,-125.36 207.07,-128.02 217.96,-130.39\"/>\\r\\n<polygon fill=\"blue\" stroke=\"blue\" stroke-width=\"1.5\" points=\"217.54,-132.45 223.85,-131.67 218.44,-128.35 217.54,-132.45\"/>\\r\\n</g>\\r\\n<!-- peasants -->\\r\\n<g id=\"node2\" class=\"node\">\\r\\n<title>peasants</title>\\r\\n<polygon fill=\"#fff6cc\" stroke=\"#666251\" stroke-width=\"0.5\" points=\"81,-297.1 16,-297.1 16,-275.1 81,-275.1 81,-297.1\"/>\\r\\n<text text-anchor=\"middle\" x=\"48.5\" y=\"-283.6\" font-family=\"Verdana\" font-size=\"10.00\">peasants</text>\\r\\n</g>\\r\\n<!-- Labor -->\\r\\n<g id=\"node7\" class=\"node\">\\r\\n<title>Labor</title>\\r\\n<ellipse fill=\"none\" stroke=\"black\" stroke-width=\"0.5\" cx=\"48.5\" cy=\"-239.1\" rx=\"27.17\" ry=\"18\"/>\\r\\n<text text-anchor=\"middle\" x=\"48.5\" y=\"-236\" font-family=\"Times New Roman,serif\" font-size=\"12.00\">Labor</text>\\r\\n</g>\\r\\n<!-- peasants&#45;&gt;Labor -->\\r\\n<g id=\"edge1\" class=\"edge\">\\r\\n<title>peasants&#45;&gt;Labor</title>\\r\\n<path fill=\"none\" stroke=\"black\" stroke-width=\"1.5\" d=\"M48.5,-274.91C48.5,-271.19 48.5,-267.46 48.5,-263.73\"/>\\r\\n<polygon fill=\"black\" stroke=\"black\" stroke-width=\"1.5\" points=\"50.6,-263.46 48.5,-257.46 46.4,-263.46 50.6,-263.46\"/>\\r\\n</g>\\r\\n<!-- Reproduce -->\\r\\n<g id=\"node9\" class=\"node\">\\r\\n<title>Reproduce</title>\\r\\n<ellipse fill=\"none\" stroke=\"black\" stroke-width=\"0.5\" cx=\"151.24\" cy=\"-275.1\" rx=\"41.49\" ry=\"18\"/>\\r\\n<text text-anchor=\"middle\" x=\"151.24\" y=\"-272\" font-family=\"Times New Roman,serif\" font-size=\"12.00\">Reproduce</text>\\r\\n</g>\\r\\n<!-- peasants&#45;&gt;Reproduce -->\\r\\n<g id=\"edge4\" class=\"edge\">\\r\\n<title>peasants&#45;&gt;Reproduce</title>\\r\\n<path fill=\"none\" stroke=\"black\" stroke-width=\"1.5\" d=\"M81.1,-276.34C88.31,-275.2 96.13,-274.21 103.81,-273.44\"/>\\r\\n<polygon fill=\"black\" stroke=\"black\" stroke-width=\"1.5\" points=\"104.45,-275.49 110.23,-272.85 104.06,-271.31 104.45,-275.49\"/>\\r\\n</g>\\r\\n<!-- goods -->\\r\\n<g id=\"node3\" class=\"node\">\\r\\n<title>goods</title>\\r\\n<polygon fill=\"#fff6cc\" stroke=\"#666251\" stroke-width=\"0.5\" points=\"372.12,-121.1 307.12,-121.1 307.12,-99.1 372.12,-99.1 372.12,-121.1\"/>\\r\\n<text text-anchor=\"middle\" x=\"339.62\" y=\"-107.6\" font-family=\"Verdana\" font-size=\"10.00\">goods</text>\\r\\n</g>\\r\\n<!-- goods&#45;&gt;Labor -->\\r\\n<g id=\"edge5\" class=\"edge\">\\r\\n<title>goods&#45;&gt;Labor</title>\\r\\n<path fill=\"none\" stroke=\"lightgray\" stroke-width=\"0.5\" d=\"M330.3,-98.8C319.83,-85.64 300.49,-64.63 278.12,-56.1 208.31,-29.48 170.56,-12.34 110,-56.1 83.99,-74.9 62.99,-168.27 54.1,-213.91\"/>\\r\\n<polygon fill=\"lightgray\" stroke=\"lightgray\" stroke-width=\"0.5\" points=\"51.64,-213.73 52.72,-221.06 56.45,-214.65 51.64,-213.73\"/>\\r\\n</g>\\r\\n<!-- Lord -->\\r\\n<g id=\"node8\" class=\"node\">\\r\\n<title>Lord</title>\\r\\n<ellipse fill=\"none\" stroke=\"black\" stroke-width=\"0.5\" cx=\"48.5\" cy=\"-76.1\" rx=\"27\" ry=\"18\"/>\\r\\n<text text-anchor=\"middle\" x=\"48.5\" y=\"-73\" font-family=\"Times New Roman,serif\" font-size=\"12.00\">Lord</text>\\r\\n</g>\\r\\n<!-- goods&#45;&gt;Lord -->\\r\\n<g id=\"edge6\" class=\"edge\">\\r\\n<title>goods&#45;&gt;Lord</title>\\r\\n<path fill=\"none\" stroke=\"blue\" stroke-width=\"1.5\" d=\"M334.81,-98.96C327.42,-79.37 309.1,-39.29 278.12,-23.1 211.9,11.51 179.94,3.2 110,-23.1 92.69,-29.61 77.1,-43.57 66.08,-55.52\"/>\\r\\n<polygon fill=\"blue\" stroke=\"blue\" stroke-width=\"1.5\" points=\"64.38,-54.28 61.94,-60.16 67.51,-57.08 64.38,-54.28\"/>\\r\\n</g>\\r\\n<!-- goods&#45;&gt;Reproduce -->\\r\\n<g id=\"edge7\" class=\"edge\">\\r\\n<title>goods&#45;&gt;Reproduce</title>\\r\\n<path fill=\"none\" stroke=\"black\" stroke-width=\"1.5\" d=\"M326.99,-121.36C315.1,-132.65 295.92,-150.29 278.12,-164.1 254.17,-182.68 244.65,-182.54 221.49,-202.1 202.74,-217.93 183.72,-238.37 170.37,-253.59\"/>\\r\\n<polygon fill=\"black\" stroke=\"black\" stroke-width=\"1.5\" points=\"168.77,-252.23 166.42,-258.14 171.94,-254.99 168.77,-252.23\"/>\\r\\n</g>\\r\\n<!-- Health -->\\r\\n<g id=\"node11\" class=\"node\">\\r\\n<title>Health</title>\\r\\n<ellipse fill=\"none\" stroke=\"black\" stroke-width=\"0.5\" cx=\"249.81\" cy=\"-229.1\" rx=\"28.14\" ry=\"18\"/>\\r\\n<text text-anchor=\"middle\" x=\"249.81\" y=\"-226\" font-family=\"Times New Roman,serif\" font-size=\"12.00\">Health</text>\\r\\n</g>\\r\\n<!-- goods&#45;&gt;Health -->\\r\\n<g id=\"edge8\" class=\"edge\">\\r\\n<title>goods&#45;&gt;Health</title>\\r\\n<path fill=\"none\" stroke=\"lightgray\" stroke-width=\"0.5\" d=\"M331.32,-121.34C320.28,-138.16 298.46,-170.74 278.12,-197.1 275.37,-200.67 272.36,-204.38 269.37,-207.95\"/>\\r\\n<polygon fill=\"lightgray\" stroke=\"lightgray\" stroke-width=\"0.5\" points=\"267.4,-206.48 264.74,-213.41 271.14,-209.65 267.4,-206.48\"/>\\r\\n</g>\\r\\n<!-- health -->\\r\\n<g id=\"node4\" class=\"node\">\\r\\n<title>health</title>\\r\\n<polygon fill=\"#fff6cc\" stroke=\"#666251\" stroke-width=\"0.5\" points=\"372.12,-240.1 307.12,-240.1 307.12,-218.1 372.12,-218.1 372.12,-240.1\"/>\\r\\n<text text-anchor=\"middle\" x=\"339.62\" y=\"-226.6\" font-family=\"Verdana\" font-size=\"10.00\">health</text>\\r\\n</g>\\r\\n<!-- health&#45;&gt;Reproduce -->\\r\\n<g id=\"edge9\" class=\"edge\">\\r\\n<title>health&#45;&gt;Reproduce</title>\\r\\n<path fill=\"none\" stroke=\"lightgray\" stroke-width=\"0.5\" d=\"M317.6,-240.17C306.2,-245.74 291.7,-252.13 278.12,-256.1 252.56,-263.59 223.16,-268.23 199.21,-271.06\"/>\\r\\n<polygon fill=\"lightgray\" stroke=\"lightgray\" stroke-width=\"0.5\" points=\"198.64,-268.66 191.96,-271.88 199.19,-273.53 198.64,-268.66\"/>\\r\\n</g>\\r\\n<!-- protection -->\\r\\n<g id=\"node5\" class=\"node\">\\r\\n<title>protection</title>\\r\\n<polygon fill=\"#fff6cc\" stroke=\"#666251\" stroke-width=\"0.5\" points=\"183.74,-87.1 118.74,-87.1 118.74,-65.1 183.74,-65.1 183.74,-87.1\"/>\\r\\n<text text-anchor=\"middle\" x=\"151.24\" y=\"-73.6\" font-family=\"Verdana\" font-size=\"10.00\">protection</text>\\r\\n</g>\\r\\n<!-- War -->\\r\\n<g id=\"node12\" class=\"node\">\\r\\n<title>War</title>\\r\\n<ellipse fill=\"none\" stroke=\"black\" stroke-width=\"0.5\" cx=\"249.81\" cy=\"-83.1\" rx=\"27\" ry=\"18\"/>\\r\\n<text text-anchor=\"middle\" x=\"249.81\" y=\"-80\" font-family=\"Times New Roman,serif\" font-size=\"12.00\">War</text>\\r\\n</g>\\r\\n<!-- protection&#45;&gt;War -->\\r\\n<g id=\"edge10\" class=\"edge\">\\r\\n<title>protection&#45;&gt;War</title>\\r\\n<path fill=\"none\" stroke=\"lightgray\" stroke-width=\"0.5\" d=\"M183.86,-78.39C194.04,-79.13 205.35,-79.95 215.64,-80.7\"/>\\r\\n<polygon fill=\"lightgray\" stroke=\"lightgray\" stroke-width=\"0.5\" points=\"215.76,-83.16 222.92,-81.22 216.11,-78.27 215.76,-83.16\"/>\\r\\n</g>\\r\\n<!-- labor -->\\r\\n<g id=\"node6\" class=\"node\">\\r\\n<title>labor</title>\\r\\n<polygon fill=\"#fff6cc\" stroke=\"#666251\" stroke-width=\"0.5\" points=\"183.74,-205.1 118.74,-205.1 118.74,-183.1 183.74,-183.1 183.74,-205.1\"/>\\r\\n<text text-anchor=\"middle\" x=\"151.24\" y=\"-191.6\" font-family=\"Verdana\" font-size=\"10.00\">labor</text>\\r\\n</g>\\r\\n<!-- labor&#45;&gt;Reproduce -->\\r\\n<g id=\"edge11\" class=\"edge\">\\r\\n<title>labor&#45;&gt;Reproduce</title>\\r\\n<path fill=\"none\" stroke=\"lightgray\" stroke-width=\"0.5\" d=\"M151.24,-205.18C151.24,-220.04 151.24,-234.91 151.24,-249.78\"/>\\r\\n<polygon fill=\"lightgray\" stroke=\"lightgray\" stroke-width=\"0.5\" points=\"148.79,-250.07 151.24,-257.07 153.69,-250.07 148.79,-250.07\"/>\\r\\n</g>\\r\\n<!-- labor&#45;&gt;Work -->\\r\\n<g id=\"edge12\" class=\"edge\">\\r\\n<title>labor&#45;&gt;Work</title>\\r\\n<path fill=\"none\" stroke=\"black\" stroke-width=\"1.5\" d=\"M175.1,-182.89C183.22,-178.74 192.36,-173.88 200.49,-169.1 208.66,-164.29 217.37,-158.69 225.1,-153.53\"/>\\r\\n<polygon fill=\"black\" stroke=\"black\" stroke-width=\"1.5\" points=\"226.48,-155.13 230.29,-150.04 224.14,-151.65 226.48,-155.13\"/>\\r\\n</g>\\r\\n<!-- labor&#45;&gt;Health -->\\r\\n<g id=\"edge13\" class=\"edge\">\\r\\n<title>labor&#45;&gt;Health</title>\\r\\n<path fill=\"none\" stroke=\"lightgray\" stroke-width=\"0.5\" d=\"M183.78,-203.45C189.38,-205.24 195.13,-207.16 200.49,-209.1 206.63,-211.32 213.14,-213.88 219.32,-216.4\"/>\\r\\n<polygon fill=\"lightgray\" stroke=\"lightgray\" stroke-width=\"0.5\" points=\"218.47,-218.7 225.87,-219.11 220.34,-214.17 218.47,-218.7\"/>\\r\\n</g>\\r\\n<!-- Labor&#45;&gt;land -->\\r\\n<g id=\"edge14\" class=\"edge\">\\r\\n<title>Labor&#45;&gt;land</title>\\r\\n<path fill=\"none\" stroke=\"lightgray\" stroke-width=\"0.5\" d=\"M57.1,-221.87C66.97,-200.9 85.86,-165.31 110,-141.1 113.67,-137.42 117.99,-134.03 122.4,-131.01\"/>\\r\\n<polygon fill=\"lightgray\" stroke=\"lightgray\" stroke-width=\"0.5\" points=\"123.87,-132.98 128.44,-127.14 121.22,-128.86 123.87,-132.98\"/>\\r\\n</g>\\r\\n<!-- Labor&#45;&gt;labor -->\\r\\n<g id=\"edge15\" class=\"edge\">\\r\\n<title>Labor&#45;&gt;labor</title>\\r\\n<path fill=\"none\" stroke=\"black\" stroke-width=\"1.5\" d=\"M70.25,-228.15C81.81,-222.21 96.55,-214.92 110,-209.1 111.22,-208.57 112.47,-208.04 113.74,-207.52\"/>\\r\\n<polygon fill=\"black\" stroke=\"black\" stroke-width=\"1.5\" points=\"114.58,-209.44 119.35,-205.24 113,-205.55 114.58,-209.44\"/>\\r\\n</g>\\r\\n<!-- Lord&#45;&gt;land -->\\r\\n<g id=\"edge16\" class=\"edge\">\\r\\n<title>Lord&#45;&gt;land</title>\\r\\n<path fill=\"none\" stroke=\"blue\" stroke-width=\"1.5\" d=\"M72.11,-85.08C85.22,-90.28 101.98,-96.94 116.61,-102.75\"/>\\r\\n<polygon fill=\"blue\" stroke=\"blue\" stroke-width=\"1.5\" points=\"115.96,-104.75 122.32,-105.01 117.51,-100.85 115.96,-104.75\"/>\\r\\n</g>\\r\\n<!-- Lord&#45;&gt;protection -->\\r\\n<g id=\"edge17\" class=\"edge\">\\r\\n<title>Lord&#45;&gt;protection</title>\\r\\n<path fill=\"none\" stroke=\"lightgray\" stroke-width=\"0.5\" d=\"M75.71,-76.1C86.52,-76.1 99.28,-76.1 111.16,-76.1\"/>\\r\\n<polygon fill=\"lightgray\" stroke=\"lightgray\" stroke-width=\"0.5\" points=\"111.42,-78.55 118.42,-76.1 111.42,-73.65 111.42,-78.55\"/>\\r\\n</g>\\r\\n<!-- Reproduce&#45;&gt;peasants -->\\r\\n<g id=\"edge2\" class=\"edge\">\\r\\n<title>Reproduce&#45;&gt;peasants</title>\\r\\n<path fill=\"none\" stroke=\"black\" stroke-width=\"1.5\" d=\"M116.67,-285.17C107.25,-286.6 96.96,-287.78 87.32,-288.53\"/>\\r\\n<polygon fill=\"black\" stroke=\"black\" stroke-width=\"1.5\" points=\"86.94,-286.45 81.1,-288.97 87.23,-290.64 86.94,-286.45\"/>\\r\\n</g>\\r\\n<!-- Work&#45;&gt;goods -->\\r\\n<g id=\"edge18\" class=\"edge\">\\r\\n<title>Work&#45;&gt;goods</title>\\r\\n<path fill=\"none\" stroke=\"black\" stroke-width=\"1.5\" d=\"M274.8,-129.72C282.97,-127.21 292.3,-124.34 301.26,-121.59\"/>\\r\\n<polygon fill=\"black\" stroke=\"black\" stroke-width=\"1.5\" points=\"301.96,-123.57 307.07,-119.8 300.72,-119.56 301.96,-123.57\"/>\\r\\n</g>\\r\\n<!-- Health&#45;&gt;health -->\\r\\n<g id=\"edge19\" class=\"edge\">\\r\\n<title>Health&#45;&gt;health</title>\\r\\n<path fill=\"none\" stroke=\"lightgray\" stroke-width=\"0.5\" d=\"M278.59,-229.1C285.38,-229.1 292.76,-229.1 299.95,-229.1\"/>\\r\\n<polygon fill=\"lightgray\" stroke=\"lightgray\" stroke-width=\"0.5\" points=\"300.04,-231.55 307.04,-229.1 300.04,-226.65 300.04,-231.55\"/>\\r\\n</g>\\r\\n<!-- War&#45;&gt;land -->\\r\\n<g id=\"edge20\" class=\"edge\">\\r\\n<title>War&#45;&gt;land</title>\\r\\n<path fill=\"none\" stroke=\"lightgray\" stroke-width=\"0.5\" d=\"M225.39,-91.1C214.96,-94.67 202.4,-98.96 190.66,-102.97\"/>\\r\\n<polygon fill=\"lightgray\" stroke=\"lightgray\" stroke-width=\"0.5\" points=\"189.69,-100.71 183.86,-105.3 191.28,-105.35 189.69,-100.71\"/>\\r\\n</g>\\r\\n<!-- War&#45;&gt;peasants -->\\r\\n<g id=\"edge21\" class=\"edge\">\\r\\n<title>War&#45;&gt;peasants</title>\\r\\n<path fill=\"none\" stroke=\"lightgray\" stroke-width=\"0.5\" d=\"M233.47,-97.66C229.48,-101.61 225.25,-105.95 221.49,-110.1 211.52,-121.12 212.36,-127.18 200.49,-136.1 165.62,-162.31 139.39,-141.87 110,-174.1 81.11,-205.78 107.12,-232.11 81,-266.1 79.86,-267.58 78.58,-268.99 77.2,-270.31\"/>\\r\\n<polygon fill=\"lightgray\" stroke=\"lightgray\" stroke-width=\"0.5\" points=\"75.34,-268.67 71.49,-275.01 78.45,-272.45 75.34,-268.67\"/>\\r\\n</g>\\r\\n<!-- War&#45;&gt;goods -->\\r\\n<g id=\"edge22\" class=\"edge\">\\r\\n<title>War&#45;&gt;goods</title>\\r\\n<path fill=\"none\" stroke=\"lightgray\" stroke-width=\"0.5\" d=\"M274.8,-90.48C282.66,-92.89 291.59,-95.64 300.23,-98.3\"/>\\r\\n<polygon fill=\"lightgray\" stroke=\"lightgray\" stroke-width=\"0.5\" points=\"299.66,-100.69 307.07,-100.4 301.1,-96 299.66,-100.69\"/>\\r\\n</g>\\r\\n<!-- War&#45;&gt;health -->\\r\\n<g id=\"edge23\" class=\"edge\">\\r\\n<title>War&#45;&gt;health</title>\\r\\n<path fill=\"none\" stroke=\"lightgray\" stroke-width=\"0.5\" d=\"M266.76,-97.16C270.74,-101.12 274.82,-105.58 278.12,-110.1 302.26,-143.15 321.88,-187.22 331.73,-211.39\"/>\\r\\n<polygon fill=\"lightgray\" stroke=\"lightgray\" stroke-width=\"0.5\" points=\"329.48,-212.35 334.36,-217.93 334.03,-210.52 329.48,-212.35\"/>\\r\\n</g>\\r\\n</g>\\r\\n</svg>\\r\\n'"
      ],
      "text/plain": [
       "<AGraph b'Feaudal Processes' <Swig Object of type 'Agraph_t *' at 0x0000000005315E10>>"
      ]
     },
     "execution_count": 6,
     "metadata": {},
     "output_type": "execute_result"
    }
   ],
   "source": [
    "gs = [G]\n",
    "gs.append(G.copy()); g = gs[-1]\n",
    "\n",
    "g.graph_attr['label'] = 'Basic Scenario' \n",
    "lord_goods_chain = g.select_edges('Lord land Work goods Lord')\n",
    "g.style_edges(lord_goods_chain, g.styles['bold_edge'] + {'color': 'blue'} )\n",
    "\n",
    "peasant_goods_chain = g.select_edges('peasants Labor labor Work goods Reproduce peasants Reproduce')\n",
    "g.style_edges(peasant_goods_chain, g.styles['bold_edge'] + {'color': 'black'})\n",
    "\n",
    "\n",
    "other_edges = set(g.edges()).difference(peasant_goods_chain).difference(lord_goods_chain)\n",
    "g.style_edges(other_edges, {'color': 'lightgray'})\n",
    "\n",
    "g"
   ]
  },
  {
   "cell_type": "code",
   "execution_count": 7,
   "metadata": {
    "ExecuteTime": {
     "end_time": "2019-08-24T14:56:59.715000Z",
     "start_time": "2019-08-24T14:56:59.708000Z"
    }
   },
   "outputs": [],
   "source": [
    "gs.append(gs[-1].copy()); g = gs[-1]\n",
    "\n",
    "g.graph_attr['label'] = 'Basic War'\n",
    "\n",
    "g.style_edges(g.select_edges('Lord protection War'), 'lord_edge')\n",
    "g.style_edges(g.out_edges('War'), 'war_edge')\n"
   ]
  },
  {
   "cell_type": "code",
   "execution_count": 8,
   "metadata": {
    "ExecuteTime": {
     "end_time": "2019-08-24T14:56:59.938000Z",
     "start_time": "2019-08-24T14:56:59.718000Z"
    }
   },
   "outputs": [
    {
     "data": {
      "application/vnd.jupyter.widget-view+json": {
       "model_id": "352ba3962bad4a359cb0f106808e9cfc",
       "version_major": 2,
       "version_minor": 0
      },
      "text/plain": [
       "HBox(children=(Output(), Output(), Output()))"
      ]
     },
     "metadata": {},
     "output_type": "display_data"
    }
   ],
   "source": [
    "outs = [Output() for _ in gs]\n",
    "for o, g in zip(outs, gs):\n",
    "    with o:\n",
    "        display(g)\n",
    "\n",
    "HBox(outs)"
   ]
  },
  {
   "cell_type": "code",
   "execution_count": null,
   "metadata": {},
   "outputs": [],
   "source": []
  },
  {
   "cell_type": "code",
   "execution_count": 9,
   "metadata": {
    "ExecuteTime": {
     "end_time": "2019-08-24T14:57:00.094000Z",
     "start_time": "2019-08-24T14:56:59.940000Z"
    }
   },
   "outputs": [
    {
     "ename": "NameError",
     "evalue": "name 'abe' is not defined",
     "output_type": "error",
     "traceback": [
      "\u001b[1;31m---------------------------------------------------------------------------\u001b[0m",
      "\u001b[1;31mNameError\u001b[0m                                 Traceback (most recent call last)",
      "\u001b[1;32m<ipython-input-9-6af25931da12>\u001b[0m in \u001b[0;36m<module>\u001b[1;34m\u001b[0m\n\u001b[1;32m----> 1\u001b[1;33m \u001b[1;32mclass\u001b[0m \u001b[0mLord\u001b[0m\u001b[1;33m(\u001b[0m\u001b[0mabe\u001b[0m\u001b[1;33m.\u001b[0m\u001b[0mAgent\u001b[0m\u001b[1;33m)\u001b[0m\u001b[1;33m:\u001b[0m\u001b[1;33m\u001b[0m\u001b[1;33m\u001b[0m\u001b[0m\n\u001b[0m\u001b[0;32m      2\u001b[0m     \u001b[1;32mdef\u001b[0m \u001b[0minit\u001b[0m\u001b[1;33m(\u001b[0m\u001b[0mland\u001b[0m\u001b[1;33m,\u001b[0m \u001b[0mprotection\u001b[0m\u001b[1;33m,\u001b[0m \u001b[0mhouseholds\u001b[0m\u001b[1;33m,\u001b[0m \u001b[0mgreed\u001b[0m\u001b[1;33m=\u001b[0m\u001b[1;36m0\u001b[0m\u001b[1;33m)\u001b[0m\u001b[1;33m:\u001b[0m\u001b[1;33m\u001b[0m\u001b[1;33m\u001b[0m\u001b[0m\n\u001b[0;32m      3\u001b[0m         \u001b[0mself\u001b[0m\u001b[1;33m.\u001b[0m\u001b[0mland\u001b[0m \u001b[1;33m=\u001b[0m \u001b[0mself\u001b[0m\u001b[1;33m.\u001b[0m\u001b[0mcreate\u001b[0m\u001b[1;33m(\u001b[0m\u001b[1;34m'land'\u001b[0m\u001b[1;33m,\u001b[0m \u001b[0mland\u001b[0m\u001b[1;33m)\u001b[0m\u001b[1;33m\u001b[0m\u001b[1;33m\u001b[0m\u001b[0m\n\u001b[0;32m      4\u001b[0m         \u001b[0mself\u001b[0m\u001b[1;33m.\u001b[0m\u001b[0mprotection\u001b[0m \u001b[1;33m=\u001b[0m \u001b[0mself\u001b[0m\u001b[1;33m.\u001b[0m\u001b[0mcreate\u001b[0m\u001b[1;33m(\u001b[0m\u001b[1;34m'protection'\u001b[0m\u001b[1;33m,\u001b[0m \u001b[0mprotection\u001b[0m\u001b[1;33m)\u001b[0m\u001b[1;33m\u001b[0m\u001b[1;33m\u001b[0m\u001b[0m\n\u001b[0;32m      5\u001b[0m         \u001b[0mself\u001b[0m\u001b[1;33m.\u001b[0m\u001b[0mhouseholds\u001b[0m \u001b[1;33m=\u001b[0m \u001b[0mhouseholds\u001b[0m\u001b[1;33m\u001b[0m\u001b[1;33m\u001b[0m\u001b[0m\n",
      "\u001b[1;31mNameError\u001b[0m: name 'abe' is not defined"
     ]
    }
   ],
   "source": [
    "class Lord(abe.Agent):\n",
    "    def init(land, protection, households, greed=0):\n",
    "        self.land = self.create('land', land)\n",
    "        self.protection = self.create('protection', protection)\n",
    "        self.households = households\n",
    "        \n",
    "    "
   ]
  },
  {
   "cell_type": "code",
   "execution_count": null,
   "metadata": {},
   "outputs": [],
   "source": []
  },
  {
   "cell_type": "code",
   "execution_count": null,
   "metadata": {},
   "outputs": [],
   "source": []
  }
 ],
 "metadata": {
  "kernelspec": {
   "display_name": "Python [conda env:abc]",
   "language": "python",
   "name": "conda-env-abc-py"
  },
  "language_info": {
   "codemirror_mode": {
    "name": "ipython",
    "version": 3
   },
   "file_extension": ".py",
   "mimetype": "text/x-python",
   "name": "python",
   "nbconvert_exporter": "python",
   "pygments_lexer": "ipython3",
   "version": "3.7.4"
  },
  "varInspector": {
   "cols": {
    "lenName": 16,
    "lenType": 16,
    "lenVar": 40
   },
   "kernels_config": {
    "python": {
     "delete_cmd_postfix": "",
     "delete_cmd_prefix": "del ",
     "library": "var_list.py",
     "varRefreshCmd": "print(var_dic_list())"
    },
    "r": {
     "delete_cmd_postfix": ") ",
     "delete_cmd_prefix": "rm(",
     "library": "var_list.r",
     "varRefreshCmd": "cat(var_dic_list()) "
    }
   },
   "types_to_exclude": [
    "module",
    "function",
    "builtin_function_or_method",
    "instance",
    "_Feature"
   ],
   "window_display": false
  }
 },
 "nbformat": 4,
 "nbformat_minor": 2
}
