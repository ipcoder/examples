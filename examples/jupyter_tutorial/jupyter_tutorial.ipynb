{
 "cells": [
  {
   "cell_type": "markdown",
   "metadata": {},
   "source": [
    "# Interactive jupyter / IPython notebook Tutorial"
   ]
  },
  {
   "cell_type": "markdown",
   "metadata": {},
   "source": [
    "This tutorial works on jupyter notebook. Please download examples from here: https://github.com/AB-CE/examples and load the jupyter_tutorial by changing in the `examples/jupyter_tutorial` folder and typing `jupyter notebook jupyter_tutorial.ipynb`. Then you can execute the notebook cell by cell and observe ABCE at work."
   ]
  },
  {
   "cell_type": "code",
   "execution_count": 1,
   "metadata": {
    "ExecuteTime": {
     "end_time": "2019-08-03T18:42:48.297400Z",
     "start_time": "2019-08-03T18:42:46.360400Z"
    }
   },
   "outputs": [],
   "source": [
    "import abcEconomics as abce"
   ]
  },
  {
   "cell_type": "code",
   "execution_count": 2,
   "metadata": {
    "ExecuteTime": {
     "end_time": "2019-08-03T18:42:48.360400Z",
     "start_time": "2019-08-03T18:42:48.349400Z"
    }
   },
   "outputs": [],
   "source": [
    "simulation = abce.Simulation(name='ipythonsimulation', processes=1)"
   ]
  },
  {
   "cell_type": "markdown",
   "metadata": {},
   "source": [
    "## Creating the Agent\n",
    "We create a simple agent and intialize it. An agent is an object that has propeties and does things. In python that is a class. We create an agent that has a name, knows the world size and can say his name. \n",
    "\n",
    "The agent needs to inherit from abce.Agents. *The `__init__` function should not be overwritten, instead create an `init` function*. The init function will be called during initialisation.\n",
    "The agents gets two parameters. All agents get the parameters we will specify in the next round. From agent_parameters the agents get only agent_parameters[id], where id is the number of the agent.\n",
    "Agents have for now only one function. They can say their name."
   ]
  },
  {
   "cell_type": "code",
   "execution_count": 3,
   "metadata": {
    "ExecuteTime": {
     "end_time": "2019-08-03T18:42:48.496400Z",
     "start_time": "2019-08-03T18:42:48.460400Z"
    }
   },
   "outputs": [],
   "source": [
    "class Agent(abce.Agent):\n",
    "    def init(self, world_size, family_name):\n",
    "        self.family_name = family_name\n",
    "        self.world_size = world_size\n",
    "        print(world_size)\n",
    "        \n",
    "    def say(self):\n",
    "        print(\"hello I am %s my id %i and my group is '%s', it is the %i round\" % (self.family_name, self.id, self.group, self.time))"
   ]
  },
  {
   "cell_type": "markdown",
   "metadata": {},
   "source": [
    "From the abstract agent, we create four concrete agents."
   ]
  },
  {
   "cell_type": "code",
   "execution_count": 4,
   "metadata": {
    "ExecuteTime": {
     "end_time": "2019-08-03T18:42:48.534400Z",
     "start_time": "2019-08-03T18:42:48.519400Z"
    }
   },
   "outputs": [
    {
     "name": "stdout",
     "output_type": "stream",
     "text": [
      "30\n",
      "30\n",
      "30\n",
      "30\n"
     ]
    }
   ],
   "source": [
    "agents = simulation.build_agents(Agent, 'agent',\n",
    "                                 world_size=30,\n",
    "                                 agent_parameters=[{'family_name': 'fred'}, \n",
    "                                                   {'family_name': 'astaire'}, \n",
    "                                                   {'family_name': 'altair'}, \n",
    "                                                   {'family_name': 'deurich'}])"
   ]
  },
  {
   "cell_type": "markdown",
   "metadata": {},
   "source": [
    "`agents` allows you to call each agents in the agents group. Each agent in this group has a group name, which is 'agent' and an id. Further we give each of the agents a parameter a family_name.\n",
    "We can now run the simulation and let all agents say their name:"
   ]
  },
  {
   "cell_type": "code",
   "execution_count": 5,
   "metadata": {
    "ExecuteTime": {
     "end_time": "2019-08-03T18:42:49.858400Z",
     "start_time": "2019-08-03T18:42:49.853400Z"
    }
   },
   "outputs": [
    {
     "name": "stdout",
     "output_type": "stream",
     "text": [
      "hello I am deurich my id 3 and my group is 'agent', it is the 0 round\n",
      "hello I am fred my id 0 and my group is 'agent', it is the 0 round\n",
      "hello I am altair my id 2 and my group is 'agent', it is the 0 round\n",
      "hello I am astaire my id 1 and my group is 'agent', it is the 0 round\n",
      "hello I am deurich my id 3 and my group is 'agent', it is the 1 round\n",
      "hello I am fred my id 0 and my group is 'agent', it is the 1 round\n",
      "hello I am altair my id 2 and my group is 'agent', it is the 1 round\n",
      "hello I am astaire my id 1 and my group is 'agent', it is the 1 round\n",
      "hello I am deurich my id 3 and my group is 'agent', it is the 2 round\n",
      "hello I am fred my id 0 and my group is 'agent', it is the 2 round\n",
      "hello I am altair my id 2 and my group is 'agent', it is the 2 round\n",
      "hello I am astaire my id 1 and my group is 'agent', it is the 2 round\n",
      "hello I am deurich my id 3 and my group is 'agent', it is the 3 round\n",
      "hello I am fred my id 0 and my group is 'agent', it is the 3 round\n",
      "hello I am altair my id 2 and my group is 'agent', it is the 3 round\n",
      "hello I am astaire my id 1 and my group is 'agent', it is the 3 round\n",
      "hello I am deurich my id 3 and my group is 'agent', it is the 4 round\n",
      "hello I am fred my id 0 and my group is 'agent', it is the 4 round\n",
      "hello I am altair my id 2 and my group is 'agent', it is the 4 round\n",
      "hello I am astaire my id 1 and my group is 'agent', it is the 4 round\n"
     ]
    }
   ],
   "source": [
    "for r in range(5):\n",
    "    simulation.time = r\n",
    "    agents.say()"
   ]
  },
  {
   "cell_type": "markdown",
   "metadata": {},
   "source": [
    "It is necessary to tell the simulation when a new round starts. The parameter can be any representation of time."
   ]
  },
  {
   "cell_type": "markdown",
   "metadata": {},
   "source": [
    "## Giving a Good\n",
    "ABCE provide goods. Goods are things that can be given, sold or transformed.\n",
    "We create 5 agents, the first one has a balls the agents pass the ball around."
   ]
  },
  {
   "cell_type": "code",
   "execution_count": 6,
   "metadata": {
    "ExecuteTime": {
     "end_time": "2019-08-03T18:42:51.660400Z",
     "start_time": "2019-08-03T18:42:51.653400Z"
    }
   },
   "outputs": [],
   "source": [
    "class Kid(abce.Agent):\n",
    "    def init(self, num_kids):\n",
    "        self.num_kids = num_kids\n",
    "        if self.id == 0:\n",
    "            self.create('ball', 1)\n",
    "        \n",
    "    def whether_I_have_the_ball(self):\n",
    "        if self['ball'] > 0:\n",
    "            print('*', end=\"\", flush=True)\n",
    "        else:\n",
    "            print('.', end=\"\", flush=True)\n",
    "            \n",
    "    def give_the_ball_to_the_next_kid(self):\n",
    "        next_kid = (self.id + 1) % self.num_kids  # the id of the next kid, if I am the last the first kid\n",
    "        if self['ball'] >= 1:\n",
    "            self.give(('kid', next_kid), good='ball', quantity=1)\n",
    "            \n",
    "    \n",
    "        "
   ]
  },
  {
   "cell_type": "markdown",
   "metadata": {},
   "source": [
    "self.create, creates an object. self.possession, checks how much of one object an agent has. self.give, gives an object to another agent, specied by its group name and its id."
   ]
  },
  {
   "cell_type": "code",
   "execution_count": 7,
   "metadata": {
    "ExecuteTime": {
     "end_time": "2019-08-03T18:42:52.766400Z",
     "start_time": "2019-08-03T18:42:52.757400Z"
    }
   },
   "outputs": [],
   "source": [
    "num_kids = 5"
   ]
  },
  {
   "cell_type": "code",
   "execution_count": 8,
   "metadata": {
    "ExecuteTime": {
     "end_time": "2019-08-03T18:42:53.256400Z",
     "start_time": "2019-08-03T18:42:53.250400Z"
    }
   },
   "outputs": [],
   "source": [
    "simulation = abce.Simulation(name='ipythonsimulation', processes=1)"
   ]
  },
  {
   "cell_type": "code",
   "execution_count": 9,
   "metadata": {
    "ExecuteTime": {
     "end_time": "2019-08-03T18:42:53.777400Z",
     "start_time": "2019-08-03T18:42:53.762400Z"
    }
   },
   "outputs": [],
   "source": [
    "kids = simulation.build_agents(Kid, 'kid', number=num_kids,\n",
    "                               num_kids=num_kids) \n",
    "                            "
   ]
  },
  {
   "cell_type": "markdown",
   "metadata": {},
   "source": [
    "When agent_parameters is not specified the numer of agents to be created needs to be spezified"
   ]
  },
  {
   "cell_type": "code",
   "execution_count": 10,
   "metadata": {
    "ExecuteTime": {
     "end_time": "2019-08-03T18:42:54.914400Z",
     "start_time": "2019-08-03T18:42:54.862400Z"
    }
   },
   "outputs": [
    {
     "name": "stdout",
     "output_type": "stream",
     "text": [
      ".*...\n",
      "*....\n",
      "....*\n",
      "..*..\n",
      "...*.\n",
      ".*...\n",
      "*....\n"
     ]
    }
   ],
   "source": [
    "for r in range(7):\n",
    "    simulation.advance_round(r)\n",
    "    kids.whether_I_have_the_ball()\n",
    "    print()\n",
    "    kids.give_the_ball_to_the_next_kid()"
   ]
  },
  {
   "cell_type": "markdown",
   "metadata": {},
   "source": [
    "## Trade"
   ]
  },
  {
   "cell_type": "code",
   "execution_count": 11,
   "metadata": {
    "ExecuteTime": {
     "end_time": "2019-08-03T18:42:58.999400Z",
     "start_time": "2019-08-03T18:42:58.996400Z"
    }
   },
   "outputs": [],
   "source": [
    "from random import randrange"
   ]
  },
  {
   "cell_type": "markdown",
   "metadata": {},
   "source": [
    "Well in every school yard we have a drug dealer."
   ]
  },
  {
   "cell_type": "code",
   "execution_count": 12,
   "metadata": {
    "ExecuteTime": {
     "end_time": "2019-08-03T18:43:00.082400Z",
     "start_time": "2019-08-03T18:43:00.066400Z"
    }
   },
   "outputs": [],
   "source": [
    "class NewKid(abce.Agent):\n",
    "    def init(self, num_dealers):\n",
    "        self.num_dealers = num_dealers\n",
    "        self.create('money', 100)  # don't we all wish you'd this function in real live?\n",
    "        \n",
    "    def buy_drugs(self):\n",
    "        drug_dealer_id = randrange(self.num_dealers)\n",
    "        self.buy(('drug_dealer', drug_dealer_id), good='drugs', quantity=1, price=10)\n",
    "    \n",
    "    def print_possessions(self):\n",
    "        print('    ' + self.group + str(dict(self.possessions())))\n",
    "        \n",
    "    "
   ]
  },
  {
   "cell_type": "markdown",
   "metadata": {},
   "source": [
    "The new kids, approach a random drug dealer and offer him 10 bucks."
   ]
  },
  {
   "cell_type": "code",
   "execution_count": 13,
   "metadata": {
    "ExecuteTime": {
     "end_time": "2019-08-03T18:43:01.292400Z",
     "start_time": "2019-08-03T18:43:01.287400Z"
    }
   },
   "outputs": [],
   "source": [
    "class DrugDealer(abce.Agent):\n",
    "    def init(self):\n",
    "        self.create('drugs', 1)\n",
    "        \n",
    "    def sell_to_customers(self):\n",
    "        for offer in self.get_offers('drugs'):\n",
    "            if offer.price >= 10 and self['drugs'] > 1:\n",
    "                self.accept(offer)\n",
    "    \n",
    "    def print_possessions(self):\n",
    "        print('    ' + self.group + str(dict(self.possessions())))"
   ]
  },
  {
   "cell_type": "markdown",
   "metadata": {},
   "source": [
    "Drug dealer look at all the sell offers they get and decide to sell only to those kids that are willing to give them at least 10 dollars."
   ]
  },
  {
   "cell_type": "code",
   "execution_count": 14,
   "metadata": {
    "ExecuteTime": {
     "end_time": "2019-08-03T18:43:04.860400Z",
     "start_time": "2019-08-03T18:43:04.858400Z"
    }
   },
   "outputs": [],
   "source": [
    "num_dealers = 1"
   ]
  },
  {
   "cell_type": "code",
   "execution_count": 15,
   "metadata": {
    "ExecuteTime": {
     "end_time": "2019-08-03T18:43:05.322400Z",
     "start_time": "2019-08-03T18:43:05.311400Z"
    }
   },
   "outputs": [],
   "source": [
    "simulation = abce.Simulation(name='school_yard', processes=1)"
   ]
  },
  {
   "cell_type": "code",
   "execution_count": 16,
   "metadata": {
    "ExecuteTime": {
     "end_time": "2019-08-03T18:43:05.693400Z",
     "start_time": "2019-08-03T18:43:05.686400Z"
    }
   },
   "outputs": [],
   "source": [
    "drug_dealers = simulation.build_agents(DrugDealer, 'drug_dealer', number=num_dealers)"
   ]
  },
  {
   "cell_type": "code",
   "execution_count": 17,
   "metadata": {
    "ExecuteTime": {
     "end_time": "2019-08-03T18:43:06.205400Z",
     "start_time": "2019-08-03T18:43:06.202400Z"
    }
   },
   "outputs": [],
   "source": [
    "customers = simulation.build_agents(NewKid, 'customer', number=1, \n",
    "                                   num_dealers=num_dealers)"
   ]
  },
  {
   "cell_type": "markdown",
   "metadata": {},
   "source": [
    "builds 1 drug dealer and one customer."
   ]
  },
  {
   "cell_type": "code",
   "execution_count": 18,
   "metadata": {
    "ExecuteTime": {
     "end_time": "2019-08-03T18:43:07.735400Z",
     "start_time": "2019-08-03T18:43:07.732400Z"
    }
   },
   "outputs": [],
   "source": [
    "kids = drug_dealers + customers"
   ]
  },
  {
   "cell_type": "markdown",
   "metadata": {},
   "source": [
    "Groups of agents can be merged to 'super' groups. We will print the amount of drugs and money all kids have for each of the two kids"
   ]
  },
  {
   "cell_type": "code",
   "execution_count": 19,
   "metadata": {
    "ExecuteTime": {
     "end_time": "2019-08-03T18:43:10.258400Z",
     "start_time": "2019-08-03T18:43:10.251400Z"
    },
    "scrolled": true
   },
   "outputs": [
    {
     "name": "stdout",
     "output_type": "stream",
     "text": [
      "Customer offers 10 dollar:\n",
      "    customer{'money': 90.0}\n",
      "    drug_dealer{'drugs': 1.0}\n",
      "Drug Dealer accepts or rejects the offer:\n",
      "    customer{'money': 100.0}\n",
      "    drug_dealer{'drugs': 1.0}\n",
      "\n",
      "Customer offers 10 dollar:\n",
      "    customer{'money': 90.0}\n",
      "    drug_dealer{'drugs': 1.0}\n",
      "Drug Dealer accepts or rejects the offer:\n",
      "    customer{'money': 100.0}\n",
      "    drug_dealer{'drugs': 1.0}\n",
      "\n"
     ]
    }
   ],
   "source": [
    "for r in range(2):\n",
    "    simulation.advance_round(r)\n",
    "    print('Customer offers 10 dollar:')\n",
    "    customers.buy_drugs()\n",
    "    kids.print_possessions()\n",
    "    print('Drug Dealer accepts or rejects the offer:')\n",
    "    drug_dealers.sell_to_customers()\n",
    "    kids.print_possessions()\n",
    "    print()"
   ]
  },
  {
   "cell_type": "markdown",
   "metadata": {},
   "source": [
    "When looking at round one one can see that after the customer offered 10 dollars, the 10 dollars are not available to him util the deal has either been accepted or rejected. After the drug dealer accepts the offer in the 0 round. The money is transfered to the drug dealer and the drugs to the customer.\n",
    "\n",
    "In round 1, where the drug dealer runs out of drugs the 10 dollars go back to the customer.\n"
   ]
  },
  {
   "cell_type": "markdown",
   "metadata": {},
   "source": [
    "## Lets capture data\n"
   ]
  },
  {
   "cell_type": "markdown",
   "metadata": {},
   "source": [
    "There are three ways of capturing data. `aggregate` and `panel` collect data from a specified group at a specified point of time. This has the advantage that there is no logging code in the agent class. `self.log('name', value)` saves a value under a certain name."
   ]
  },
  {
   "cell_type": "code",
   "execution_count": 20,
   "metadata": {
    "ExecuteTime": {
     "end_time": "2019-08-03T18:43:14.990400Z",
     "start_time": "2019-08-03T18:43:14.985400Z"
    }
   },
   "outputs": [],
   "source": [
    "from math import sin\n",
    "\n",
    "class DataDealer(abce.Agent):\n",
    "    def init(self):\n",
    "        self.count = 0\n",
    "        self.create('money', 0)\n",
    "\n",
    "    def counting(self):\n",
    "        self.count += 1\n",
    "        self.curve = sin(self.count / 100)\n",
    "        self.create('money', self.curve * self.id)\n",
    "        \n",
    "        "
   ]
  },
  {
   "cell_type": "code",
   "execution_count": 21,
   "metadata": {
    "ExecuteTime": {
     "end_time": "2019-08-03T18:43:15.813400Z",
     "start_time": "2019-08-03T18:43:15.800400Z"
    }
   },
   "outputs": [],
   "source": [
    "simulation = abce.Simulation(name='gatherdata', processes=1)"
   ]
  },
  {
   "cell_type": "markdown",
   "metadata": {},
   "source": [
    "It is specified which agents group collects which variables and possessions."
   ]
  },
  {
   "cell_type": "code",
   "execution_count": 22,
   "metadata": {
    "ExecuteTime": {
     "end_time": "2019-08-03T18:43:16.783400Z",
     "start_time": "2019-08-03T18:43:16.780400Z"
    }
   },
   "outputs": [],
   "source": [
    "datadealers = simulation.build_agents(DataDealer, 'datadealer', number=10)"
   ]
  },
  {
   "cell_type": "markdown",
   "metadata": {},
   "source": [
    "Every round the groups need to be instructed to collect the according data. **simulation.finalize()** must be called after the simulation, to write the data! Otherwise the program hangs."
   ]
  },
  {
   "cell_type": "code",
   "execution_count": 23,
   "metadata": {
    "ExecuteTime": {
     "end_time": "2019-08-03T18:43:17.947400Z",
     "start_time": "2019-08-03T18:43:17.747400Z"
    }
   },
   "outputs": [
    {
     "name": "stdout",
     "output_type": "stream",
     "text": [
      "\n",
      "time only simulation   1.98\n",
      "time with data   2.13\n"
     ]
    }
   ],
   "source": [
    "\n",
    "for r in range(100):\n",
    "    simulation.advance_round(r)\n",
    "    datadealers.counting()\n",
    "    datadealers.agg_log(variables=['count'])\n",
    "    datadealers.panel_log(goods=['money'], variables=['curve'])\n",
    "simulation.finalize()    \n",
    "        "
   ]
  },
  {
   "cell_type": "markdown",
   "metadata": {},
   "source": [
    "We can find the directory of the simulation data by using the `simulation.path` property"
   ]
  },
  {
   "cell_type": "code",
   "execution_count": 24,
   "metadata": {
    "ExecuteTime": {
     "end_time": "2019-08-03T18:43:21.517400Z",
     "start_time": "2019-08-03T18:43:21.512400Z"
    }
   },
   "outputs": [
    {
     "name": "stdout",
     "output_type": "stream",
     "text": [
      "c:\\Work\\code\\extools\\abce\\examples\\jupyter_tutorial/result/gatherdata_2019-08-03_21-43\n"
     ]
    }
   ],
   "source": [
    "print(simulation.path)"
   ]
  },
  {
   "cell_type": "markdown",
   "metadata": {},
   "source": [
    "In that directory are the data files and a describtion.txt"
   ]
  },
  {
   "cell_type": "code",
   "execution_count": 25,
   "metadata": {
    "ExecuteTime": {
     "end_time": "2019-08-03T18:43:22.619400Z",
     "start_time": "2019-08-03T18:43:22.610400Z"
    }
   },
   "outputs": [
    {
     "data": {
      "text/plain": [
       "['aggregated_datadealer.csv',\n",
       " 'aggregate_datadealer.csv',\n",
       " 'description.txt',\n",
       " 'panel_datadealer.csv']"
      ]
     },
     "execution_count": 25,
     "metadata": {},
     "output_type": "execute_result"
    }
   ],
   "source": [
    "import os\n",
    "os.listdir(simulation.path)"
   ]
  },
  {
   "cell_type": "markdown",
   "metadata": {},
   "source": [
    "## Using statistical software"
   ]
  },
  {
   "cell_type": "code",
   "execution_count": 26,
   "metadata": {
    "ExecuteTime": {
     "end_time": "2019-08-03T18:43:23.803400Z",
     "start_time": "2019-08-03T18:43:23.797400Z"
    }
   },
   "outputs": [],
   "source": [
    "import pandas as pd"
   ]
  },
  {
   "cell_type": "code",
   "execution_count": 29,
   "metadata": {
    "ExecuteTime": {
     "end_time": "2019-08-03T18:45:14.416400Z",
     "start_time": "2019-08-03T18:45:13.959400Z"
    }
   },
   "outputs": [],
   "source": [
    "%matplotlib inline\n"
   ]
  },
  {
   "cell_type": "code",
   "execution_count": 30,
   "metadata": {
    "ExecuteTime": {
     "end_time": "2019-08-03T18:45:15.194400Z",
     "start_time": "2019-08-03T18:45:15.187400Z"
    }
   },
   "outputs": [],
   "source": [
    "df = pd.read_csv(simulation.path + '/panel_datadealer.csv')"
   ]
  },
  {
   "cell_type": "code",
   "execution_count": 31,
   "metadata": {
    "ExecuteTime": {
     "end_time": "2019-08-03T18:45:16.717400Z",
     "start_time": "2019-08-03T18:45:16.704400Z"
    }
   },
   "outputs": [
    {
     "data": {
      "text/html": [
       "<div>\n",
       "<style scoped>\n",
       "    .dataframe tbody tr th:only-of-type {\n",
       "        vertical-align: middle;\n",
       "    }\n",
       "\n",
       "    .dataframe tbody tr th {\n",
       "        vertical-align: top;\n",
       "    }\n",
       "\n",
       "    .dataframe thead th {\n",
       "        text-align: right;\n",
       "    }\n",
       "</style>\n",
       "<table border=\"1\" class=\"dataframe\">\n",
       "  <thead>\n",
       "    <tr style=\"text-align: right;\">\n",
       "      <th></th>\n",
       "      <th>index</th>\n",
       "      <th>curve</th>\n",
       "      <th>money</th>\n",
       "      <th>round</th>\n",
       "      <th>name</th>\n",
       "    </tr>\n",
       "  </thead>\n",
       "  <tbody>\n",
       "    <tr>\n",
       "      <th>0</th>\n",
       "      <td>1</td>\n",
       "      <td>0.010000</td>\n",
       "      <td>0.020000</td>\n",
       "      <td>0</td>\n",
       "      <td>datadealer2</td>\n",
       "    </tr>\n",
       "    <tr>\n",
       "      <th>1</th>\n",
       "      <td>2</td>\n",
       "      <td>0.010000</td>\n",
       "      <td>0.030000</td>\n",
       "      <td>0</td>\n",
       "      <td>datadealer3</td>\n",
       "    </tr>\n",
       "    <tr>\n",
       "      <th>2</th>\n",
       "      <td>3</td>\n",
       "      <td>0.010000</td>\n",
       "      <td>0.000000</td>\n",
       "      <td>0</td>\n",
       "      <td>datadealer0</td>\n",
       "    </tr>\n",
       "    <tr>\n",
       "      <th>3</th>\n",
       "      <td>4</td>\n",
       "      <td>0.010000</td>\n",
       "      <td>0.010000</td>\n",
       "      <td>0</td>\n",
       "      <td>datadealer1</td>\n",
       "    </tr>\n",
       "    <tr>\n",
       "      <th>4</th>\n",
       "      <td>5</td>\n",
       "      <td>0.010000</td>\n",
       "      <td>0.059999</td>\n",
       "      <td>0</td>\n",
       "      <td>datadealer6</td>\n",
       "    </tr>\n",
       "    <tr>\n",
       "      <th>5</th>\n",
       "      <td>6</td>\n",
       "      <td>0.010000</td>\n",
       "      <td>0.079999</td>\n",
       "      <td>0</td>\n",
       "      <td>datadealer8</td>\n",
       "    </tr>\n",
       "    <tr>\n",
       "      <th>6</th>\n",
       "      <td>7</td>\n",
       "      <td>0.010000</td>\n",
       "      <td>0.069999</td>\n",
       "      <td>0</td>\n",
       "      <td>datadealer7</td>\n",
       "    </tr>\n",
       "    <tr>\n",
       "      <th>7</th>\n",
       "      <td>8</td>\n",
       "      <td>0.010000</td>\n",
       "      <td>0.089999</td>\n",
       "      <td>0</td>\n",
       "      <td>datadealer9</td>\n",
       "    </tr>\n",
       "    <tr>\n",
       "      <th>8</th>\n",
       "      <td>9</td>\n",
       "      <td>0.010000</td>\n",
       "      <td>0.039999</td>\n",
       "      <td>0</td>\n",
       "      <td>datadealer4</td>\n",
       "    </tr>\n",
       "    <tr>\n",
       "      <th>9</th>\n",
       "      <td>10</td>\n",
       "      <td>0.010000</td>\n",
       "      <td>0.049999</td>\n",
       "      <td>0</td>\n",
       "      <td>datadealer5</td>\n",
       "    </tr>\n",
       "    <tr>\n",
       "      <th>10</th>\n",
       "      <td>11</td>\n",
       "      <td>0.019999</td>\n",
       "      <td>0.059997</td>\n",
       "      <td>1</td>\n",
       "      <td>datadealer2</td>\n",
       "    </tr>\n",
       "    <tr>\n",
       "      <th>11</th>\n",
       "      <td>12</td>\n",
       "      <td>0.019999</td>\n",
       "      <td>0.089996</td>\n",
       "      <td>1</td>\n",
       "      <td>datadealer3</td>\n",
       "    </tr>\n",
       "    <tr>\n",
       "      <th>12</th>\n",
       "      <td>13</td>\n",
       "      <td>0.019999</td>\n",
       "      <td>0.000000</td>\n",
       "      <td>1</td>\n",
       "      <td>datadealer0</td>\n",
       "    </tr>\n",
       "    <tr>\n",
       "      <th>13</th>\n",
       "      <td>14</td>\n",
       "      <td>0.019999</td>\n",
       "      <td>0.029999</td>\n",
       "      <td>1</td>\n",
       "      <td>datadealer1</td>\n",
       "    </tr>\n",
       "    <tr>\n",
       "      <th>14</th>\n",
       "      <td>15</td>\n",
       "      <td>0.019999</td>\n",
       "      <td>0.179991</td>\n",
       "      <td>1</td>\n",
       "      <td>datadealer6</td>\n",
       "    </tr>\n",
       "    <tr>\n",
       "      <th>15</th>\n",
       "      <td>16</td>\n",
       "      <td>0.019999</td>\n",
       "      <td>0.239988</td>\n",
       "      <td>1</td>\n",
       "      <td>datadealer8</td>\n",
       "    </tr>\n",
       "    <tr>\n",
       "      <th>16</th>\n",
       "      <td>17</td>\n",
       "      <td>0.019999</td>\n",
       "      <td>0.209990</td>\n",
       "      <td>1</td>\n",
       "      <td>datadealer7</td>\n",
       "    </tr>\n",
       "    <tr>\n",
       "      <th>17</th>\n",
       "      <td>18</td>\n",
       "      <td>0.019999</td>\n",
       "      <td>0.269987</td>\n",
       "      <td>1</td>\n",
       "      <td>datadealer9</td>\n",
       "    </tr>\n",
       "    <tr>\n",
       "      <th>18</th>\n",
       "      <td>19</td>\n",
       "      <td>0.019999</td>\n",
       "      <td>0.119994</td>\n",
       "      <td>1</td>\n",
       "      <td>datadealer4</td>\n",
       "    </tr>\n",
       "    <tr>\n",
       "      <th>19</th>\n",
       "      <td>20</td>\n",
       "      <td>0.019999</td>\n",
       "      <td>0.149993</td>\n",
       "      <td>1</td>\n",
       "      <td>datadealer5</td>\n",
       "    </tr>\n",
       "  </tbody>\n",
       "</table>\n",
       "</div>"
      ],
      "text/plain": [
       "    index     curve     money  round         name\n",
       "0       1  0.010000  0.020000      0  datadealer2\n",
       "1       2  0.010000  0.030000      0  datadealer3\n",
       "2       3  0.010000  0.000000      0  datadealer0\n",
       "3       4  0.010000  0.010000      0  datadealer1\n",
       "4       5  0.010000  0.059999      0  datadealer6\n",
       "5       6  0.010000  0.079999      0  datadealer8\n",
       "6       7  0.010000  0.069999      0  datadealer7\n",
       "7       8  0.010000  0.089999      0  datadealer9\n",
       "8       9  0.010000  0.039999      0  datadealer4\n",
       "9      10  0.010000  0.049999      0  datadealer5\n",
       "10     11  0.019999  0.059997      1  datadealer2\n",
       "11     12  0.019999  0.089996      1  datadealer3\n",
       "12     13  0.019999  0.000000      1  datadealer0\n",
       "13     14  0.019999  0.029999      1  datadealer1\n",
       "14     15  0.019999  0.179991      1  datadealer6\n",
       "15     16  0.019999  0.239988      1  datadealer8\n",
       "16     17  0.019999  0.209990      1  datadealer7\n",
       "17     18  0.019999  0.269987      1  datadealer9\n",
       "18     19  0.019999  0.119994      1  datadealer4\n",
       "19     20  0.019999  0.149993      1  datadealer5"
      ]
     },
     "execution_count": 31,
     "metadata": {},
     "output_type": "execute_result"
    }
   ],
   "source": [
    "df.head(20)"
   ]
  },
  {
   "cell_type": "code",
   "execution_count": 32,
   "metadata": {
    "ExecuteTime": {
     "end_time": "2019-08-03T18:45:22.432400Z",
     "start_time": "2019-08-03T18:45:22.042400Z"
    }
   },
   "outputs": [
    {
     "data": {
      "text/plain": [
       "<matplotlib.axes._subplots.AxesSubplot at 0xf7b0c50>"
      ]
     },
     "execution_count": 32,
     "metadata": {},
     "output_type": "execute_result"
    },
    {
     "data": {
      "image/png": "[encoded data removed]",
      "text/plain": [
       "<Figure size 665x475 with 1 Axes>"
      ]
     },
     "metadata": {},
     "output_type": "display_data"
    }
   ],
   "source": [
    "df.pivot(index='round', columns='name', values='money').plot()\n"
   ]
  },
  {
   "cell_type": "markdown",
   "metadata": {},
   "source": [
    "When running a simulation with python from a start.py simulation.graphs() displays all recorded data. You can also use the @gui decorator to ship abce as an interactive web-app."
   ]
  },
  {
   "cell_type": "markdown",
   "metadata": {},
   "source": [
    "# Communication between Simulation and Agents"
   ]
  },
  {
   "cell_type": "code",
   "execution_count": 33,
   "metadata": {
    "ExecuteTime": {
     "end_time": "2019-08-03T18:45:29.114400Z",
     "start_time": "2019-08-03T18:45:29.110400Z"
    }
   },
   "outputs": [],
   "source": [
    "simulation = abce.Simulation()"
   ]
  },
  {
   "cell_type": "code",
   "execution_count": 34,
   "metadata": {
    "ExecuteTime": {
     "end_time": "2019-08-03T18:45:30.177400Z",
     "start_time": "2019-08-03T18:45:30.174400Z"
    }
   },
   "outputs": [],
   "source": [
    "class Communicator(abce.Agent):\n",
    "    def report_my_name(self):\n",
    "        return self.name\n",
    "    \n",
    "    def do_as_told(self, time, text):\n",
    "        print(\"it is %i o'clock and I have to say %s\" % (time, text))"
   ]
  },
  {
   "cell_type": "code",
   "execution_count": 35,
   "metadata": {
    "ExecuteTime": {
     "end_time": "2019-08-03T18:45:32.313400Z",
     "start_time": "2019-08-03T18:45:32.304400Z"
    }
   },
   "outputs": [
    {
     "name": "stdout",
     "output_type": "stream",
     "text": [
      "Warning: agent communicator has no init function\n",
      "Warning: agent communicator has no init function\n",
      "Warning: agent communicator has no init function\n"
     ]
    }
   ],
   "source": [
    "communicators = simulation.build_agents(Communicator, 'communicator', number=3)"
   ]
  },
  {
   "cell_type": "code",
   "execution_count": 36,
   "metadata": {
    "ExecuteTime": {
     "end_time": "2019-08-03T18:45:33.355400Z",
     "start_time": "2019-08-03T18:45:33.352400Z"
    }
   },
   "outputs": [
    {
     "name": "stdout",
     "output_type": "stream",
     "text": [
      "it is 0 o'clock and I have to say Right says fred\n",
      "it is 0 o'clock and I have to say Right says fred\n",
      "it is 0 o'clock and I have to say Right says fred\n",
      "it is 1 o'clock and I have to say Right says fred\n",
      "it is 1 o'clock and I have to say Right says fred\n",
      "it is 1 o'clock and I have to say Right says fred\n",
      "it is 2 o'clock and I have to say Right says fred\n",
      "it is 2 o'clock and I have to say Right says fred\n",
      "it is 2 o'clock and I have to say Right says fred\n"
     ]
    }
   ],
   "source": [
    "for time in range(3):\n",
    "    simulation.advance_round(time)\n",
    "    communicators.report_my_name()\n",
    "    communicators.do_as_told(time=time, text=\"Right says fred\")\n",
    "    \n",
    "    "
   ]
  },
  {
   "cell_type": "markdown",
   "metadata": {},
   "source": [
    "One caviat is that **only keyword arguments** work."
   ]
  }
 ],
 "metadata": {
  "kernelspec": {
   "display_name": "Python [conda env:abc]",
   "language": "python",
   "name": "conda-env-abc-py"
  },
  "language_info": {
   "codemirror_mode": {
    "name": "ipython",
    "version": 3
   },
   "file_extension": ".py",
   "mimetype": "text/x-python",
   "name": "python",
   "nbconvert_exporter": "python",
   "pygments_lexer": "ipython3",
   "version": "3.7.3"
  },
  "varInspector": {
   "cols": {
    "lenName": 16,
    "lenType": 16,
    "lenVar": 40
   },
   "kernels_config": {
    "python": {
     "delete_cmd_postfix": "",
     "delete_cmd_prefix": "del ",
     "library": "var_list.py",
     "varRefreshCmd": "print(var_dic_list())"
    },
    "r": {
     "delete_cmd_postfix": ") ",
     "delete_cmd_prefix": "rm(",
     "library": "var_list.r",
     "varRefreshCmd": "cat(var_dic_list()) "
    }
   },
   "types_to_exclude": [
    "module",
    "function",
    "builtin_function_or_method",
    "instance",
    "_Feature"
   ],
   "window_display": false
  }
 },
 "nbformat": 4,
 "nbformat_minor": 2
}
